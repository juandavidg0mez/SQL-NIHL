{
 "cells": [
  {
   "cell_type": "markdown",
   "metadata": {},
   "source": [
    "## procedimientos almacenados\n",
    "Son como recetas pre definidad que se guardan en el servidor de la base de datos \n",
    "- Son como funciones contienn un conjuntode reglasy un nombre para invocarla en escencia\n",
    "\n",
    "### Eficiencia \n",
    "Ahorra tiempo porque ya estan las instrucciones\n",
    "### Optimizacion \n",
    "Es enteneder que hace ese conjunto de instrucciones\n",
    "### Seguridad\n",
    "Seguridad info\n",
    "### Modularidad \n",
    "la capacidad de descomponer la logica, encapsula procedimientos. Organiza, por esto permite modificar estas mismas reglas \n",
    "\n"
   ]
  },
  {
   "cell_type": "code",
   "execution_count": null,
   "metadata": {
    "vscode": {
     "languageId": "sql"
    }
   },
   "outputs": [],
   "source": [
    "CREATE Procedure nombre_procedimiento([parametors])\n",
    "BEGIN\n",
    " -- Declarciones SQL y la logica de procedimiento\n",
    " -- Instrucciones de la Receta\n",
    " END;"
   ]
  },
  {
   "cell_type": "markdown",
   "metadata": {},
   "source": [
    "## Parametros de Entrada y salida\n",
    "In, OUT , INOUT \n",
    "* Pascal = lent\n"
   ]
  },
  {
   "cell_type": "code",
   "execution_count": null,
   "metadata": {
    "vscode": {
     "languageId": "sql"
    }
   },
   "outputs": [],
   "source": [
    "CREATE PROCEDURE CalculadorTotal(IN precio DECIMAL(10, 2), IN cantidad INT, OUT total DECIMAL(10 ,2))\n",
    "BEGIN\n",
    "    SET total = precio * cantidad;\n",
    "    -- SET = let = JS\n",
    "END;"
   ]
  }
 ],
 "metadata": {
  "language_info": {
   "name": "python"
  }
 },
 "nbformat": 4,
 "nbformat_minor": 2
}
