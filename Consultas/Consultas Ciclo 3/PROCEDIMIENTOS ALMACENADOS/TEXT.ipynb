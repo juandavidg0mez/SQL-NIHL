{
 "cells": [
  {
   "cell_type": "markdown",
   "metadata": {},
   "source": [
    "## procedimientos almacenados\n",
    "Son como recetas pre definidad que se guardan en el servidor de la base de datos \n",
    "- Son como funciones contienn un conjuntode reglasy un nombre para invocarla en escencia\n",
    "\n",
    "### Eficiencia \n",
    "Ahorra tiempo porque ya estan las instrucciones\n",
    "### Optimizacion \n",
    "Es enteneder que hace ese conjunto de instrucciones\n",
    "### Seguridad\n",
    "Seguridad info\n",
    "### Modularidad \n",
    "la capacidad de descomponer la logica, encapsula procedimientos. Organiza, por esto permite modificar estas mismas reglas \n",
    "\n"
   ]
  },
  {
   "cell_type": "code",
   "execution_count": null,
   "metadata": {
    "vscode": {
     "languageId": "sql"
    }
   },
   "outputs": [
    {
     "ename": "",
     "evalue": "",
     "output_type": "error",
     "traceback": [
      "\u001b[1;31mLa ejecución de celdas con 'c:\\Users\\Juan David\\AppData\\Local\\Programs\\Python\\Python311\\python.exe' requiere el paquete ipykernel.\n",
      "\u001b[1;31mEjecute el siguiente comando para instalar 'ipykernel' en el entorno de Python. comando \n",
      "\u001b[1;31m: '\"c:/Users/Juan David/AppData/Local/Programs/Python/Python311/python.exe\" -m pip install ipykernel -U --user --force-reinstall'"
     ]
    }
   ],
   "source": []
  },
  {
   "cell_type": "code",
   "execution_count": null,
   "metadata": {
    "vscode": {
     "languageId": "sql"
    }
   },
   "outputs": [
    {
     "ename": "",
     "evalue": "",
     "output_type": "error",
     "traceback": [
      "\u001b[1;31mLa ejecución de celdas con 'c:\\Users\\Juan David\\AppData\\Local\\Programs\\Python\\Python311\\python.exe' requiere el paquete ipykernel.\n",
      "\u001b[1;31mEjecute el siguiente comando para instalar 'ipykernel' en el entorno de Python. comando \n",
      "\u001b[1;31m: '\"c:/Users/Juan David/AppData/Local/Programs/Python/Python311/python.exe\" -m pip install ipykernel -U --user --force-reinstall'"
     ]
    }
   ],
   "source": []
  },
  {
   "cell_type": "code",
   "execution_count": null,
   "metadata": {
    "vscode": {
     "languageId": "sql"
    }
   },
   "outputs": [
    {
     "ename": "",
     "evalue": "",
     "output_type": "error",
     "traceback": [
      "\u001b[1;31mLa ejecución de celdas con 'c:\\Users\\Juan David\\AppData\\Local\\Programs\\Python\\Python311\\python.exe' requiere el paquete ipykernel.\n",
      "\u001b[1;31mEjecute el siguiente comando para instalar 'ipykernel' en el entorno de Python. comando \n",
      "\u001b[1;31m: '\"c:/Users/Juan David/AppData/Local/Programs/Python/Python311/python.exe\" -m pip install ipykernel -U --user --force-reinstall'"
     ]
    }
   ],
   "source": [
    "CREATE Procedure nombre_procedimiento([parametors])\n",
    "BEGIN\n",
    " -- Declarciones SQL y la logica de procedimiento\n",
    " -- Instrucciones de la Receta\n",
    " END;"
   ]
  },
  {
   "cell_type": "markdown",
   "metadata": {},
   "source": [
    "## Parametros de Entrada y salida\n",
    "In, OUT , INOUT \n",
    "* Pascal = lent\n"
   ]
  },
  {
   "cell_type": "code",
   "execution_count": null,
   "metadata": {
    "vscode": {
     "languageId": "sql"
    }
   },
   "outputs": [
    {
     "ename": "",
     "evalue": "",
     "output_type": "error",
     "traceback": [
      "\u001b[1;31mLa ejecución de celdas con 'c:\\Users\\Juan David\\AppData\\Local\\Programs\\Python\\Python311\\python.exe' requiere el paquete ipykernel.\n",
      "\u001b[1;31mEjecute el siguiente comando para instalar 'ipykernel' en el entorno de Python. comando \n",
      "\u001b[1;31m: '\"c:/Users/Juan David/AppData/Local/Programs/Python/Python311/python.exe\" -m pip install ipykernel -U --user --force-reinstall'"
     ]
    }
   ],
   "source": [
    "CREATE PROCEDURE CalculadorTotal(IN precio DECIMAL(10, 2), IN cantidad INT, OUT total DECIMAL(10 ,2))\n",
    "BEGIN\n",
    "    SET total = precio * cantidad;\n",
    "    -- SET = let = JS\n",
    "END;"
   ]
  }
 ],
 "metadata": {
  "kernelspec": {
   "display_name": "Python 3",
   "language": "python",
   "name": "python3"
  },
  "language_info": {
   "name": "python",
   "version": "3.11.1"
  }
 },
 "nbformat": 4,
 "nbformat_minor": 2
}
