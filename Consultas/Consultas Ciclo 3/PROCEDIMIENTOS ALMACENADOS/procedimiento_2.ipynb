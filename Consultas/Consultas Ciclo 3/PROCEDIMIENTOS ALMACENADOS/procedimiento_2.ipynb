{
 "cells": [
  {
   "cell_type": "markdown",
   "metadata": {},
   "source": [
    "# Procedimientos almacenados\n",
    "\n"
   ]
  },
  {
   "cell_type": "markdown",
   "metadata": {},
   "source": [
    "**En resumen, en este caso particular, el resultado que queríamos obtener se devolvió directamente como parte del resultado de la consulta SELECT dentro del procedimiento almacenado, por lo que no se necesitó un parámetro de salida adicional. Los parámetros de salida se utilizan típicamente cuando necesitas devolver valores específicos que se calcularon o modificaron dentro del procedimiento almacenado y que no se pueden obtener directamente de una consulta.**\n",
    "\n"
   ]
  }
 ],
 "metadata": {
  "language_info": {
   "name": "python"
  }
 },
 "nbformat": 4,
 "nbformat_minor": 2
}
