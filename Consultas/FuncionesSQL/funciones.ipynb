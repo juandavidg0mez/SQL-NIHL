{
 "cells": [
  {
   "cell_type": "markdown",
   "metadata": {},
   "source": [
    "# funciones Deterministasca vs no determiniscas\n",
    "siempre devuelven el mi\n",
    "\n",
    "# no determinicas\n",
    "no tienen una respuesta o un return mismo siempre \n",
    "da o duveulfde un valor diferente\n",
    "\n",
    "## manejo de errores y excepciones en funciones\n",
    "dunciones personalizados \n"
   ]
  },
  {
   "cell_type": "markdown",
   "metadata": {
    "vscode": {
     "languageId": "sql"
    }
   },
   "source": [
    "## Funciones\n",
    "la diferencia principal una funcion si retorna un parametro especifico, con el return, y no los retorna atravez de su parametros de funcion como el in o el out inout, variantes del modo que la llamamos.\n",
    "\n",
    "el cuerpo de la rutina tiene instrucciones validas en SQL\n",
    "\n"
   ]
  },
  {
   "cell_type": "code",
   "execution_count": null,
   "metadata": {
    "vscode": {
     "languageId": "sql"
    }
   },
   "outputs": [],
   "source": [
    "USE pruebacuatro;\n",
    "\n",
    "DELIMITER $$\n",
    "CREATE Function altura_precio(vprecio_venta int)\n",
    "RETURNS VARCHAR(20)\n",
    "DETERMINISTIC\n",
    "BEGIN\n",
    "CASE\n",
    "    WHEN vprecio_venta < 9000 THEN RETURN 'BAJO';\n",
    "    WHEN vprecio_venta >= 9000 THEN RETURN 'ALTO';\n",
    "    END CASE;\n",
    "END$$\n",
    "DELIMITER;\n",
    "\n",
    "SELECT  altura_precio(7000) AS Determinates;\n",
    "\n"
   ]
  },
  {
   "cell_type": "markdown",
   "metadata": {},
   "source": [
    "El delimitador hace que no se ejecute de una la funcion por eso se coloca\n"
   ]
  },
  {
   "cell_type": "markdown",
   "metadata": {},
   "source": []
  },
  {
   "cell_type": "markdown",
   "metadata": {},
   "source": []
  }
 ],
 "metadata": {
  "language_info": {
   "name": "python"
  }
 },
 "nbformat": 4,
 "nbformat_minor": 2
}
