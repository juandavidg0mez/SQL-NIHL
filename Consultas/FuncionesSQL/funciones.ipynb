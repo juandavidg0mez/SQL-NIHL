{
 "cells": [
  {
   "cell_type": "markdown",
   "metadata": {},
   "source": [
    "# funciones Deterministasca vs no determiniscas\n",
    "siempre devuelven el mi\n",
    "\n",
    "# no determinicas\n",
    "no tienen una respuesta o un return mismo siempre \n",
    "da o duveulfde un valor diferente\n",
    "\n",
    "## manejo de errores y excepciones en funciones\n",
    "dunciones personalizados \n"
   ]
  },
  {
   "cell_type": "code",
   "execution_count": null,
   "metadata": {
    "vscode": {
     "languageId": "sql"
    }
   },
   "outputs": [],
   "source": []
  }
 ],
 "metadata": {
  "language_info": {
   "name": "python"
  }
 },
 "nbformat": 4,
 "nbformat_minor": 2
}
