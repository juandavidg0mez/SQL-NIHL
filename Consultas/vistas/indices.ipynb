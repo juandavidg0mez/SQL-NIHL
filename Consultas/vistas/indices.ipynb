{
 "cells": [
  {
   "cell_type": "code",
   "execution_count": null,
   "metadata": {
    "vscode": {
     "languageId": "sql"
    }
   },
   "outputs": [],
   "source": [
    "CREATE INDEX idx_email\n",
    "on USER (email);"
   ]
  },
  {
   "cell_type": "markdown",
   "metadata": {},
   "source": [
    "Indice simple\n",
    "Se hace sobre un campo o columna \n",
    "donde se consulta mucho \n",
    "## indices compuestos\n",
    "Va por mas columnas filtran columnas multiples\n",
    "## Indeces Unicos\n",
    "Garantizan que los valores de una columna o combinacion de columnas sean unicos \n",
    "\n"
   ]
  },
  {
   "cell_type": "code",
   "execution_count": null,
   "metadata": {
    "vscode": {
     "languageId": "sql"
    }
   },
   "outputs": [],
   "source": [
    "CREATE UNIQUE idx_name on countryidx_name(name)\n",
    "CREATE FULLTEXT INDEX idx_article_content on articles(content); "
   ]
  },
  {
   "cell_type": "markdown",
   "metadata": {},
   "source": [
    "Para buscar palabra en un campo par buscartexto Exactamente igual\n",
    "## Vistas \n",
    "Son objetos de base de datos que representan una consulta SQL guardada\n",
    "Tabla virtual que no almacena fisicamente los datos\n",
    "son utilies para simplifiacar consultas complejas, mejorar la seguridad el acceso a ciertos datos y facilitar la reutilizacion\n",
    "\n",
    "\n",
    "Trabajar sobre esta vista \n"
   ]
  },
  {
   "cell_type": "code",
   "execution_count": null,
   "metadata": {
    "vscode": {
     "languageId": "sql"
    }
   },
   "outputs": [],
   "source": [
    "CREATE VIEW nombre_vista AS -- consulta\n",
    "    SELECT u.id , u.nombre , d.direccion, d.telefono\n",
    "    FROM usuarios u\n",
    "    JOIN detalles_usuarios D On u.id = d.dusuario_id;"
   ]
  },
  {
   "cell_type": "code",
   "execution_count": null,
   "metadata": {
    "vscode": {
     "languageId": "sql"
    }
   },
   "outputs": [],
   "source": [
    "-- Active: 1709854338682@@127.0.0.1@3306@world\n",
    "create VIEW VIEW_PopulationCity as\n",
    "    select *\n",
    "        from (\n",
    "            select Name as cityName, Population, CountryCode\n",
    "            from city\n",
    "            order by Population desc\n",
    "        ) as ciudades\n",
    "\n",
    "        inner join (\n",
    "            select Code, Name as CountryName, Continent\n",
    "                from country\n",
    "        ) as countryFilter on ciudades.CountryCode = countryFilter.Code\n",
    "\n",
    "        where Continent <> 'Oceania' and Continent <> 'Antarctica';"
   ]
  },
  {
   "cell_type": "markdown",
   "metadata": {},
   "source": [
    "**Sintaxis para cambiar una vista**\n"
   ]
  },
  {
   "cell_type": "code",
   "execution_count": null,
   "metadata": {
    "vscode": {
     "languageId": "sql"
    }
   },
   "outputs": [],
   "source": [
    "-- Active: 1709854338682@@127.0.0.1@3306@world\n",
    "CREATE or REPLACE viwe nombre_vista AS\n",
    "    SELECT columnas\n",
    "    FROM tablas\n",
    "    WHERE condiciones;\n",
    "    -- idiomas de columbia\n",
    "SELECT lenguage -- campos que quiero abstrer\n",
    "FROM world.countryLanguage L\n",
    "JOIN world.country p on L.country = P.Code\n",
    "WHERE P.name = \"Colombia\";\n"
   ]
  },
  {
   "cell_type": "markdown",
   "metadata": {},
   "source": [
    "**Sintaxis para cambiar una vista**\n"
   ]
  },
  {
   "cell_type": "markdown",
   "metadata": {},
   "source": [
    "## Funciones de Agregacion \n",
    "Estas fuinciones realizan una operacion especifica sobre todas las filas de un grupo\n",
    "COUNT (*) Calcula el numero de Filas o registrs\n",
    "COUNT (columna)= cuenta los resultados no nulos\n",
    "si hay alguno con COUNT(*) nullos \n",
    "si la hace por un campo COUNT(columna) cuenta la columna como tal tal y si hay algun campo NULL pues no lo toma encuenta \n"
   ]
  },
  {
   "cell_type": "code",
   "execution_count": null,
   "metadata": {
    "vscode": {
     "languageId": "sql"
    }
   },
   "outputs": [],
   "source": [
    "SELECT COUNT(telefono)\n",
    "FROM Alumno;\n",
    "SELECT COUNT(*)\n",
    "FROM ALUMNO"
   ]
  },
  {
   "cell_type": "code",
   "execution_count": null,
   "metadata": {
    "vscode": {
     "languageId": "sql"
    }
   },
   "outputs": [],
   "source": [
    "SELECT COUNT(DISTINCT codigo_fabricante)\n",
    "FROM producto"
   ]
  },
  {
   "cell_type": "markdown",
   "metadata": {},
   "source": [
    "## agrupaciones de datos GROUP-BY\n",
    "- VAlores identicos de una tabla\n",
    "- Resultado una unica fila resumen por cada grupo de elementos unicos formados\n",
    "- el genera grupos por medio de los cuales sean iguales y genera un pormedio por cada codigo comun que agrupò \n",
    "    + AVG(CAMPO)\n",
    "\n"
   ]
  },
  {
   "cell_type": "code",
   "execution_count": null,
   "metadata": {
    "vscode": {
     "languageId": "sql"
    }
   },
   "outputs": [],
   "source": []
  }
 ],
 "metadata": {
  "language_info": {
   "name": "python"
  }
 },
 "nbformat": 4,
 "nbformat_minor": 2
}
