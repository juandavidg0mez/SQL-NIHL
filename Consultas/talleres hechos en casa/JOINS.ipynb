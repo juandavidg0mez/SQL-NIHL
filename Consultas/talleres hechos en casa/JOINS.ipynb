{
 "cells": [
  {
   "cell_type": "code",
   "execution_count": null,
   "metadata": {},
   "outputs": [],
   "source": []
  },
  {
   "cell_type": "markdown",
   "metadata": {},
   "source": []
  },
  {
   "cell_type": "markdown",
   "metadata": {},
   "source": [
    "¡Entender los diferentes tipos de JOIN en SQL es fundamental para realizar consultas eficientes y completas! Aquí tienes una explicación de los tres tipos principales de JOIN: INNER JOIN, LEFT JOIN (también conocido como LEFT OUTER JOIN) y RIGHT JOIN (también conocido como RIGHT OUTER JOIN)."
   ]
  },
  {
   "cell_type": "markdown",
   "metadata": {},
   "source": [
    "INNER JOIN: Un INNER JOIN devuelve filas cuando existe al menos una coincidencia en las tablas que se están uniendo. Es decir, solo devuelve filas que tienen una relación correspondiente en ambas tablas. Si no hay una coincidencia en ambas tablas, esas filas no se incluirán en el resultado final."
   ]
  },
  {
   "cell_type": "code",
   "execution_count": null,
   "metadata": {
    "vscode": {
     "languageId": "sql"
    }
   },
   "outputs": [],
   "source": [
    "SELECT *\n",
    "FROM tabla1\n",
    "INNER JOIN tabla2 ON tabla1.columna = tabla2.columna;\n"
   ]
  },
  {
   "cell_type": "markdown",
   "metadata": {},
   "source": [
    "LEFT JOIN: Un LEFT JOIN devuelve todas las filas de la tabla izquierda (tabla1) y las filas coincidentes de la tabla derecha (tabla2). Si no hay coincidencias en la tabla derecha, se devolverán NULL para las columnas de la tabla derecha."
   ]
  },
  {
   "cell_type": "code",
   "execution_count": null,
   "metadata": {
    "vscode": {
     "languageId": "sql"
    }
   },
   "outputs": [],
   "source": [
    "SELECT *\n",
    "FROM tabla1\n",
    "LEFT JOIN tabla2 ON tabla1.columna = tabla2.columna;\n"
   ]
  },
  {
   "cell_type": "markdown",
   "metadata": {},
   "source": [
    "RIGHT JOIN: Un RIGHT JOIN devuelve todas las filas de la tabla derecha (tabla2) y las filas coincidentes de la tabla izquierda (tabla1). Si no hay coincidencias en la tabla izquierda, se devolverán NULL para las columnas de la tabla izquierda."
   ]
  },
  {
   "cell_type": "code",
   "execution_count": null,
   "metadata": {
    "vscode": {
     "languageId": "sql"
    }
   },
   "outputs": [],
   "source": [
    "SELECT *\n",
    "FROM tabla1\n",
    "RIGHT JOIN tabla2 ON tabla1.columna = tabla2.columna;\n"
   ]
  },
  {
   "cell_type": "markdown",
   "metadata": {},
   "source": [
    "La clave principal para entender estos tipos de JOIN es visualizar las tablas como conjuntos de datos que se combinan en función de ciertos criterios (generalmente mediante el uso de cláusulas ON) para formar un conjunto de resultados. Aquí hay un breve resumen:\n",
    "\n",
    "INNER JOIN devuelve solo las filas que tienen coincidencias en ambas tablas.\n",
    "LEFT JOIN devuelve todas las filas de la tabla izquierda y las coincidencias de la tabla derecha (si las hay).\n",
    "RIGHT JOIN devuelve todas las filas de la tabla derecha y las coincidencias de la tabla izquierda (si las hay).\n",
    "Recuerda, los LEFT y RIGHT JOINs son útiles cuando necesitas incluir todas las filas de una tabla específica, incluso si no hay coincidencias en la otra tabla. Esto puede ser especialmente útil cuando necesitas analizar datos que pueden no estar completamente relacionados en ambas tablas."
   ]
  },
  {
   "cell_type": "code",
   "execution_count": null,
   "metadata": {},
   "outputs": [],
   "source": []
  },
  {
   "cell_type": "markdown",
   "metadata": {},
   "source": []
  }
 ],
 "metadata": {
  "language_info": {
   "name": "python"
  }
 },
 "nbformat": 4,
 "nbformat_minor": 2
}
